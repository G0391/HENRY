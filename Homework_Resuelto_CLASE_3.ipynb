{
  "cells": [
    {
      "cell_type": "markdown",
      "metadata": {
        "id": "view-in-github",
        "colab_type": "text"
      },
      "source": [
        "<a href=\"https://colab.research.google.com/github/G0391/HENRY/blob/main/Homework_Resuelto_CLASE_3.ipynb\" target=\"_parent\"><img src=\"https://colab.research.google.com/assets/colab-badge.svg\" alt=\"Open In Colab\"/></a>"
      ]
    },
    {
      "cell_type": "markdown",
      "metadata": {
        "id": "c-8a8a7LCGqE"
      },
      "source": [
        "# Práctica Clase 3"
      ]
    },
    {
      "cell_type": "markdown",
      "metadata": {
        "id": "0hzczGYjCGqG"
      },
      "source": [
        "## Numpy"
      ]
    },
    {
      "cell_type": "markdown",
      "metadata": {
        "id": "2iKM7iQWCGqH"
      },
      "source": [
        "**Ejercicio 1**: Responder las siguientes preguntas:\n",
        "* ¿Qué operaciones se pueden hacer tanto en un arreglo de Numpy como en una lista? Dar un ejemplo en una celda.\n",
        "* ¿Qué operaciones se pueden hacer en un arreglo de Numpy pero NO en una lista? Explorar algunas opciones y dar un ejemplo en una celda.\n",
        "* ¿Cuál es la diferencia entre un arreglo de forma -shape- (n,), (n,1) y (1,n)? Pueden crear arreglos para intentar responder esa pregunta."
      ]
    },
    {
      "cell_type": "code",
      "execution_count": null,
      "metadata": {
        "colab": {
          "base_uri": "https://localhost:8080/"
        },
        "id": "WbDr44WvSjSH",
        "outputId": "0a04d908-3605-4c03-9b65-e70d2b2382c4"
      },
      "outputs": [
        {
          "output_type": "stream",
          "name": "stdout",
          "text": [
            "1\n",
            "1\n"
          ]
        }
      ],
      "source": [
        "import numpy as np\n",
        "# Crear una lista Numpy\n",
        "arr = np.array([1, 2, 3, 4, 5])\n",
        "\n",
        "# Indexar el primer elemento\n",
        "print(arr[0])\n",
        "# Salida: 1\n",
        "\n",
        "# Crear una lista\n",
        "list = [1, 2, 3, 4, 5]\n",
        "\n",
        "# Indexar el primer elemento\n",
        "print(list[0])\n",
        "# Output: 1\n"
      ]
    },
    {
      "cell_type": "code",
      "execution_count": null,
      "metadata": {
        "id": "FdzrQkveSjSJ",
        "colab": {
          "base_uri": "https://localhost:8080/"
        },
        "outputId": "2dc45b01-f9a0-4d53-99a7-4df98cbdd285"
      },
      "outputs": [
        {
          "output_type": "execute_result",
          "data": {
            "text/plain": [
              "array([6, 7, 9])"
            ]
          },
          "metadata": {},
          "execution_count": 14
        }
      ],
      "source": [
        "\n",
        "#Indexación: Los arreglos de NumPy pueden ser indexados de forma similar a las listas, pero también pueden ser indexados usando índices booleanos. Esto permite realizar operaciones complejas como filtrar y seleccionar subconjuntos de arreglos. Por ejemplo, el siguiente código selecciona todos los elementos del arreglo c que son mayores que 5:\n",
        "c[c > 5]\n",
        "np.array([6, 7, 9])\n",
        "\n",
        "\n"
      ]
    },
    {
      "cell_type": "code",
      "execution_count": null,
      "metadata": {
        "id": "Q4Xu8OZfSjSK",
        "colab": {
          "base_uri": "https://localhost:8080/"
        },
        "outputId": "0231fa91-497a-4f8f-8c74-cce5419c6654"
      },
      "outputs": [
        {
          "output_type": "execute_result",
          "data": {
            "text/plain": [
              "(5,)"
            ]
          },
          "metadata": {},
          "execution_count": 16
        }
      ],
      "source": [
        "\n",
        "#La diferencia entre un arreglo de forma (n,), (n,1) y (1,n) es la dimensión del arreglo. Un arreglo de forma (n,) es un arreglo unidimensional con n elementos. Un arreglo de forma (n,1) es un arreglo bidimensional con n filas y 1 columna. Un arreglo de forma (1,n) es un arreglo bidimensional con 1 fila y n columnas.\n",
        "\n",
        "#arreglo unidimensional:\n",
        "\n",
        "import numpy as np\n",
        "a = np.array([1, 2, 3, 4, 5])\n",
        "a.shape\n",
        "(5,)\n"
      ]
    },
    {
      "cell_type": "code",
      "source": [
        "#arreglo bidimensional con n filas y 1 columna:\n",
        "import numpy as np\n",
        "b = np.array([[1], [2], [3], [4], [5]])\n",
        "b.shape\n",
        "(5, 1)"
      ],
      "metadata": {
        "colab": {
          "base_uri": "https://localhost:8080/"
        },
        "id": "3gnbRoNk5tei",
        "outputId": "ce9f8164-afce-4fd0-d140-072018a5ef0c"
      },
      "execution_count": null,
      "outputs": [
        {
          "output_type": "execute_result",
          "data": {
            "text/plain": [
              "(5, 1)"
            ]
          },
          "metadata": {},
          "execution_count": 17
        }
      ]
    },
    {
      "cell_type": "code",
      "source": [
        "#arreglo bidimensional con 1 fila y n columnas:\n",
        "import numpy as np\n",
        "c = np.array([[1, 2, 3, 4, 5]])\n",
        "c.shape\n",
        "(1, 5)"
      ],
      "metadata": {
        "colab": {
          "base_uri": "https://localhost:8080/"
        },
        "id": "u0k850HP8LLj",
        "outputId": "4f46c98a-0a95-4c29-f0e7-5565ac7384aa"
      },
      "execution_count": null,
      "outputs": [
        {
          "output_type": "execute_result",
          "data": {
            "text/plain": [
              "(1, 5)"
            ]
          },
          "metadata": {},
          "execution_count": 18
        }
      ]
    },
    {
      "cell_type": "code",
      "source": [],
      "metadata": {
        "id": "TZovVX516WCN"
      },
      "execution_count": null,
      "outputs": []
    },
    {
      "cell_type": "markdown",
      "metadata": {
        "id": "qr8d4_73CGqM"
      },
      "source": [
        "**Ejercicio 2**:\n",
        "* Escribir un arreglo con números enteros del 0 al 9. Pista: arange\n",
        "* Escribir un arreglo con 100 números equiespaciados del 0 al 9. Pista: linspace"
      ]
    },
    {
      "cell_type": "code",
      "execution_count": 1,
      "metadata": {
        "id": "qP5sJB4SSjSM",
        "colab": {
          "base_uri": "https://localhost:8080/"
        },
        "outputId": "ee44bfd0-43b0-442a-d62e-23318187cf9d"
      },
      "outputs": [
        {
          "output_type": "stream",
          "name": "stdout",
          "text": [
            "[0 1 2 3 4 5 6 7 8 9]\n"
          ]
        }
      ],
      "source": [
        "import numpy as np\n",
        "\n",
        "numbers = np.arange(0, 10)\n",
        "print(numbers)"
      ]
    },
    {
      "cell_type": "code",
      "execution_count": 2,
      "metadata": {
        "id": "aaly1vaVSjSN",
        "colab": {
          "base_uri": "https://localhost:8080/"
        },
        "outputId": "5a60a625-cf1e-4d0e-9053-94d2389ff48b"
      },
      "outputs": [
        {
          "output_type": "stream",
          "name": "stdout",
          "text": [
            "[0.         0.09090909 0.18181818 0.27272727 0.36363636 0.45454545\n",
            " 0.54545455 0.63636364 0.72727273 0.81818182 0.90909091 1.\n",
            " 1.09090909 1.18181818 1.27272727 1.36363636 1.45454545 1.54545455\n",
            " 1.63636364 1.72727273 1.81818182 1.90909091 2.         2.09090909\n",
            " 2.18181818 2.27272727 2.36363636 2.45454545 2.54545455 2.63636364\n",
            " 2.72727273 2.81818182 2.90909091 3.         3.09090909 3.18181818\n",
            " 3.27272727 3.36363636 3.45454545 3.54545455 3.63636364 3.72727273\n",
            " 3.81818182 3.90909091 4.         4.09090909 4.18181818 4.27272727\n",
            " 4.36363636 4.45454545 4.54545455 4.63636364 4.72727273 4.81818182\n",
            " 4.90909091 5.         5.09090909 5.18181818 5.27272727 5.36363636\n",
            " 5.45454545 5.54545455 5.63636364 5.72727273 5.81818182 5.90909091\n",
            " 6.         6.09090909 6.18181818 6.27272727 6.36363636 6.45454545\n",
            " 6.54545455 6.63636364 6.72727273 6.81818182 6.90909091 7.\n",
            " 7.09090909 7.18181818 7.27272727 7.36363636 7.45454545 7.54545455\n",
            " 7.63636364 7.72727273 7.81818182 7.90909091 8.         8.09090909\n",
            " 8.18181818 8.27272727 8.36363636 8.45454545 8.54545455 8.63636364\n",
            " 8.72727273 8.81818182 8.90909091 9.        ]\n"
          ]
        }
      ],
      "source": [
        "import numpy as np\n",
        "\n",
        "numbers = np.linspace(0, 9, 100)\n",
        "print(numbers)"
      ]
    },
    {
      "cell_type": "code",
      "execution_count": null,
      "metadata": {
        "id": "QV3Dp5LZSjSN"
      },
      "outputs": [],
      "source": []
    },
    {
      "cell_type": "code",
      "execution_count": null,
      "metadata": {
        "id": "cFhoQilxSjSP"
      },
      "outputs": [],
      "source": []
    },
    {
      "cell_type": "markdown",
      "metadata": {
        "id": "4udY-hwnCGqM"
      },
      "source": [
        "**Ejercicio 3**:\n",
        "* Escribir un arreglo con números enteros del 10 al 100 y seleccionar aquellos que son divisibles por 3<br>\n",
        "Pista: mask"
      ]
    },
    {
      "cell_type": "code",
      "execution_count": 3,
      "metadata": {
        "id": "rSkDp7SlSjSR",
        "colab": {
          "base_uri": "https://localhost:8080/"
        },
        "outputId": "16a65187-3f38-4102-849b-4c69de80b98a"
      },
      "outputs": [
        {
          "output_type": "stream",
          "name": "stdout",
          "text": [
            "[12 15 18 21 24 27 30 33 36 39 42 45 48 51 54 57 60 63 66 69 72 75 78 81\n",
            " 84 87 90 93 96 99]\n"
          ]
        }
      ],
      "source": [
        "numbers = np.arange(10, 101)\n",
        "\n",
        "mask = numbers % 3 == 0\n",
        "\n",
        "divisible_by_3 = numbers[mask]\n",
        "\n",
        "print(divisible_by_3)\n"
      ]
    },
    {
      "cell_type": "code",
      "execution_count": null,
      "metadata": {
        "id": "QbBq94TrSjSR"
      },
      "outputs": [],
      "source": []
    },
    {
      "cell_type": "code",
      "execution_count": null,
      "metadata": {
        "id": "f6dfz55TSjSS"
      },
      "outputs": [],
      "source": []
    },
    {
      "cell_type": "code",
      "execution_count": null,
      "metadata": {
        "id": "BLyKJmBoSjSS"
      },
      "outputs": [],
      "source": []
    },
    {
      "cell_type": "code",
      "execution_count": null,
      "metadata": {
        "id": "BBF5en6sSjST"
      },
      "outputs": [],
      "source": []
    },
    {
      "cell_type": "markdown",
      "metadata": {
        "id": "j7-ZHdHJCGqN"
      },
      "source": [
        "**Ejercicio 4**:\n",
        "* Crear un arreglo de ceros de `shape` (5,10).\n",
        "* Reemplazar la segunda y cuarta fila con unos\n",
        "* Reemplazar la tercera y octava columna con dos (2)."
      ]
    },
    {
      "cell_type": "code",
      "execution_count": null,
      "metadata": {
        "id": "CwhPyB9iSjSU",
        "colab": {
          "base_uri": "https://localhost:8080/"
        },
        "outputId": "c7269dd7-d5f1-4cd7-b0eb-52209dccbb8e"
      },
      "outputs": [
        {
          "output_type": "stream",
          "name": "stdout",
          "text": [
            "[0 1 2 3 4 5 6 7 8 9]\n"
          ]
        }
      ],
      "source": [
        "import numpy as np\n",
        "\n",
        "arreglo_enteros = np.arange(10)\n",
        "\n",
        "print(arreglo_enteros)"
      ]
    },
    {
      "cell_type": "code",
      "execution_count": null,
      "metadata": {
        "id": "ti7-BMuUSjSV",
        "colab": {
          "base_uri": "https://localhost:8080/"
        },
        "outputId": "b89ad893-df3c-48ef-838b-54f593251151"
      },
      "outputs": [
        {
          "output_type": "stream",
          "name": "stdout",
          "text": [
            "[[ 1  2  3]\n",
            " [ 1  1  1]\n",
            " [ 7  8  9]\n",
            " [ 1  1  1]\n",
            " [13 14 15]]\n"
          ]
        }
      ],
      "source": [
        "import numpy as np\n",
        "\n",
        "# Crear un arreglo de ejemplo de 5 filas y 3 columnas\n",
        "arreglo = np.array([[1, 2, 3],\n",
        "                    [4, 5, 6],\n",
        "                    [7, 8, 9],\n",
        "                    [10, 11, 12],\n",
        "                    [13, 14, 15]])\n",
        "\n",
        "# Reemplazar la segunda fila y la cuarta fila con unos\n",
        "arreglo[1] = 1\n",
        "arreglo[3] = 1\n",
        "\n",
        "print(arreglo)"
      ]
    },
    {
      "cell_type": "code",
      "execution_count": 6,
      "metadata": {
        "id": "cUP2I1mLSjSV",
        "colab": {
          "base_uri": "https://localhost:8080/"
        },
        "outputId": "d3fc5583-1d39-45c9-87df-d09c499db3ca"
      },
      "outputs": [
        {
          "output_type": "stream",
          "name": "stdout",
          "text": [
            "[[ 1  2  2  4  2]\n",
            " [ 6  7  2  9  2]\n",
            " [11 12  2 14  2]]\n"
          ]
        }
      ],
      "source": [
        "matrix = np.array([[1, 2, 3, 4, 5],\n",
        "                    [6, 7, 8, 9, 10],\n",
        "                    [11, 12, 13, 14, 15]])\n",
        "\n",
        "matrix[:, 2] = 2\n",
        "matrix[:, 4] = 2\n",
        "\n",
        "print(matrix)"
      ]
    },
    {
      "cell_type": "code",
      "execution_count": null,
      "metadata": {
        "id": "xZElJzptSjSV"
      },
      "outputs": [],
      "source": []
    },
    {
      "cell_type": "code",
      "execution_count": null,
      "metadata": {
        "id": "yNmbfE4ESjSW"
      },
      "outputs": [],
      "source": []
    },
    {
      "cell_type": "markdown",
      "metadata": {
        "id": "ePO74DirCGqN"
      },
      "source": [
        "**Ejercicio $\\infty$**:\n",
        "Hacer todos los ejercicios que puedan del siguiente link https://www.machinelearningplus.com/python/101-numpy-exercises-python/\n",
        "\n",
        "O de https://github.com/rougier/numpy-100"
      ]
    },
    {
      "cell_type": "markdown",
      "metadata": {
        "id": "6-du4zVGCGqN"
      },
      "source": [
        "Para explorar las funciones de creación de datos aleatorios:\n",
        "https://numpy.org/doc/stable/reference/random/legacy.html"
      ]
    },
    {
      "cell_type": "code",
      "execution_count": null,
      "metadata": {
        "id": "rWRgHyZ_SjSY"
      },
      "outputs": [],
      "source": []
    },
    {
      "cell_type": "code",
      "execution_count": null,
      "metadata": {
        "id": "qyEE9gMESjSZ"
      },
      "outputs": [],
      "source": []
    },
    {
      "cell_type": "code",
      "execution_count": null,
      "metadata": {
        "id": "1NDbbJ2DSjSZ"
      },
      "outputs": [],
      "source": []
    },
    {
      "cell_type": "code",
      "execution_count": null,
      "metadata": {
        "id": "D42ePP64SjSZ"
      },
      "outputs": [],
      "source": []
    },
    {
      "cell_type": "code",
      "execution_count": null,
      "metadata": {
        "id": "0j9uQFHsSjSa"
      },
      "outputs": [],
      "source": []
    }
  ],
  "metadata": {
    "colab": {
      "provenance": [],
      "include_colab_link": true
    },
    "kernelspec": {
      "display_name": "Python 3 (ipykernel)",
      "language": "python",
      "name": "python3"
    },
    "language_info": {
      "codemirror_mode": {
        "name": "ipython",
        "version": 3
      },
      "file_extension": ".py",
      "mimetype": "text/x-python",
      "name": "python",
      "nbconvert_exporter": "python",
      "pygments_lexer": "ipython3",
      "version": "3.9.13"
    }
  },
  "nbformat": 4,
  "nbformat_minor": 0
}