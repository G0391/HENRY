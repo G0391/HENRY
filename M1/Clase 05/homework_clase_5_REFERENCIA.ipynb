{
 "cells": [
  {
   "cell_type": "code",
   "execution_count": 1,
   "id": "cf9990ed",
   "metadata": {},
   "outputs": [],
   "source": [
    "import random"
   ]
  },
  {
   "cell_type": "markdown",
   "id": "a16f70de",
   "metadata": {},
   "source": [
    "### Pila de números\n",
    "\n",
    "1. Implementar un juego, que consista en apilar números enteros del 1 al 20, de forma aleatoria, para lo cual debe usarse una estructura de Pila.\n",
    "\n",
    "Luego, el usuario debe elegir un número de veces en que se va a quitar elementos de la pila, los cuales, sumados entre sí, no deben superar el valor de 50. \n",
    "\n",
    "El usuario pierde si la suma supera ese valor. \n",
    "\n",
    "Si no lo supera, gana, pero su calificación será 10 menos el número elementos que falten quitar para todavía no superar 50. El programa debe informar si perdió, y si ganó, con qué calificación lo hizo.\n",
    "\n",
    "Consideraciones:  \n",
    "    a. Se puede usar la función input() para obtener una entrada de teclado.  \n",
    "    b. Se puede usar la el modulo random para obtener valores aleatorios."
   ]
  },
  {
   "cell_type": "code",
   "execution_count": 2,
   "id": "fb4f5144",
   "metadata": {},
   "outputs": [],
   "source": [
    "class Pila:\n",
    "    def __init__(self):\n",
    "        self.items = []\n",
    "\n",
    "    def esta_vacia(self):\n",
    "        return self.items == []\n",
    "\n",
    "    def apilar(self, item):\n",
    "        self.items.append(item)\n",
    "\n",
    "    def desapilar(self):\n",
    "        return self.items.pop()"
   ]
  },
  {
   "cell_type": "code",
   "execution_count": 3,
   "id": "a570c141",
   "metadata": {},
   "outputs": [],
   "source": [
    "# Crear la pila de números del 1 al 20 en orden aleatorio\n",
    "numeros = list(range(1, 21))\n",
    "random.shuffle(numeros)\n",
    "pila = Pila()\n",
    "for num in numeros:\n",
    "    pila.apilar(num)"
   ]
  },
  {
   "cell_type": "code",
   "execution_count": 4,
   "id": "024aad0e",
   "metadata": {},
   "outputs": [
    {
     "name": "stdout",
     "output_type": "stream",
     "text": [
      "¿Cuántos elementos deseas quitar? 4\n"
     ]
    }
   ],
   "source": [
    "# Pedir al usuario cuántos elementos quitar de la pila\n",
    "num_quitar = int(input(\"¿Cuántos elementos deseas quitar? \"))\n",
    "suma_quitar = 0\n",
    "calificacion = 0"
   ]
  },
  {
   "cell_type": "code",
   "execution_count": 5,
   "id": "743af7f5",
   "metadata": {},
   "outputs": [
    {
     "name": "stdout",
     "output_type": "stream",
     "text": [
      "Has quitado el número 16\n",
      "Has quitado el número 7\n",
      "Has quitado el número 14\n",
      "Has quitado el número 6\n"
     ]
    }
   ],
   "source": [
    "# Quitar elementos de la pila y sumarlos\n",
    "for i in range(num_quitar):\n",
    "    if not pila.esta_vacia():\n",
    "        num = pila.desapilar()\n",
    "        print(\"Has quitado el número\", num)\n",
    "        suma_quitar += num\n",
    "        if suma_quitar > 50:\n",
    "            print(\"¡Perdiste! La suma de los números que has quitado superó 50.\")\n",
    "            break\n",
    "    else:\n",
    "        print(\"La pila está vacía.\")\n",
    "        break"
   ]
  },
  {
   "cell_type": "code",
   "execution_count": 6,
   "id": "44690ef5",
   "metadata": {},
   "outputs": [
    {
     "data": {
      "text/plain": [
       "[20, 8, 15, 17, 13, 11, 10, 3, 19, 2, 4, 18, 12, 5, 1, 9]"
      ]
     },
     "execution_count": 6,
     "metadata": {},
     "output_type": "execute_result"
    }
   ],
   "source": [
    "pila.items"
   ]
  },
  {
   "cell_type": "code",
   "execution_count": 7,
   "id": "56c48e75",
   "metadata": {},
   "outputs": [
    {
     "data": {
      "text/plain": [
       "43"
      ]
     },
     "execution_count": 7,
     "metadata": {},
     "output_type": "execute_result"
    }
   ],
   "source": [
    "suma_quitar"
   ]
  },
  {
   "cell_type": "code",
   "execution_count": 8,
   "id": "36949957",
   "metadata": {},
   "outputs": [],
   "source": [
    "def calcular_restantes(resultado):\n",
    "    faltantes = 0\n",
    "    suma = suma_quitar\n",
    "    for i in pila.items:\n",
    "        suma += pila.desapilar()\n",
    "        faltantes += 1\n",
    "        if suma > 50:\n",
    "            return faltantes"
   ]
  },
  {
   "cell_type": "code",
   "execution_count": 9,
   "id": "e1fa89c9",
   "metadata": {},
   "outputs": [
    {
     "name": "stdout",
     "output_type": "stream",
     "text": [
      "Los números seleccionados suman: 43\n",
      "Resta 1 número/s para superar los 50.\n",
      "¡Ganaste! Tu calificación es: 9\n"
     ]
    }
   ],
   "source": [
    "# Calcular la calificación y mostrar el resultado\n",
    "if suma_quitar <= 50:\n",
    "    print('Los números seleccionados suman:', suma_quitar)\n",
    "    num_faltantes = calcular_restantes(suma_quitar)\n",
    "    print('Resta', num_faltantes, 'número/s para superar los 50.')\n",
    "    calificacion = 10 - num_faltantes\n",
    "    print(\"¡Ganaste! Tu calificación es:\", calificacion)"
   ]
  },
  {
   "cell_type": "markdown",
   "id": "28e6bf42",
   "metadata": {},
   "source": [
    "### Jarra\n",
    "\n",
    "2. Implementar un juego donde constas de 2 jarras, de capacidad 5 y 3 litros respectivamente, y debes colocar 4 litros en la jarra de 5L.\n",
    "Las opciones posibles son:\n",
    "\n",
    "- Llenar la jarra de 3 litros  \n",
    "- Llenar la jarra de 5 litros  \n",
    "- Vaciar la jarra de 3 litros  \n",
    "- Vaciar la jarra de 5 litros  \n",
    "- Verter el contenido de la jarra de 3 litros en la de 5 litros  \n",
    "- Verter el contenido de la jarra de 5 litros en la de 3 litros  "
   ]
  },
  {
   "cell_type": "code",
   "execution_count": 10,
   "id": "a7208240",
   "metadata": {},
   "outputs": [],
   "source": [
    "class Jarra:\n",
    "    def __init__(self, capacidad):\n",
    "        self.capacidad = capacidad\n",
    "        self.cantidad = 0\n",
    "\n",
    "    def llenar(self):\n",
    "        self.cantidad = self.capacidad\n",
    "\n",
    "    def vaciar(self):\n",
    "        self.cantidad = 0\n",
    "\n",
    "    def verter(self, otra_jarra):\n",
    "        espacio_libre = otra_jarra.capacidad - otra_jarra.cantidad\n",
    "        if espacio_libre >= self.cantidad:\n",
    "            otra_jarra.cantidad += self.cantidad\n",
    "            self.cantidad = 0\n",
    "        else:\n",
    "            self.cantidad -= espacio_libre\n",
    "            otra_jarra.llenar()"
   ]
  },
  {
   "cell_type": "code",
   "execution_count": 11,
   "id": "bb8d1d04",
   "metadata": {},
   "outputs": [],
   "source": [
    "# Crear las jarras\n",
    "jarra_5 = Jarra(5)\n",
    "jarra_3 = Jarra(3)"
   ]
  },
  {
   "cell_type": "code",
   "execution_count": 12,
   "id": "1bf92d10",
   "metadata": {},
   "outputs": [
    {
     "name": "stdout",
     "output_type": "stream",
     "text": [
      "Jarra de 5 litros: 0 litros\n",
      "Jarra de 3 litros: 0 litros\n"
     ]
    }
   ],
   "source": [
    "# Mostrar el estado inicial de las jarras\n",
    "print(\"Jarra de 5 litros:\", jarra_5.cantidad, \"litros\")\n",
    "print(\"Jarra de 3 litros:\", jarra_3.cantidad, \"litros\")"
   ]
  },
  {
   "cell_type": "code",
   "execution_count": 13,
   "id": "a022aac1",
   "metadata": {},
   "outputs": [
    {
     "name": "stdout",
     "output_type": "stream",
     "text": [
      "3\n"
     ]
    }
   ],
   "source": [
    "jarra_3.llenar()\n",
    "print(jarra_3.cantidad)"
   ]
  },
  {
   "cell_type": "code",
   "execution_count": 14,
   "id": "0fb7c4aa",
   "metadata": {},
   "outputs": [
    {
     "name": "stdout",
     "output_type": "stream",
     "text": [
      "0\n"
     ]
    }
   ],
   "source": [
    "jarra_3.verter(jarra_5)\n",
    "print(jarra_3.cantidad)"
   ]
  },
  {
   "cell_type": "code",
   "execution_count": 15,
   "id": "5a93056d",
   "metadata": {},
   "outputs": [
    {
     "name": "stdout",
     "output_type": "stream",
     "text": [
      "3\n"
     ]
    }
   ],
   "source": [
    "print(jarra_5.cantidad)"
   ]
  },
  {
   "cell_type": "code",
   "execution_count": 16,
   "id": "692b1945",
   "metadata": {},
   "outputs": [
    {
     "name": "stdout",
     "output_type": "stream",
     "text": [
      "3\n"
     ]
    }
   ],
   "source": [
    "jarra_3.llenar()\n",
    "print(jarra_3.cantidad)"
   ]
  },
  {
   "cell_type": "code",
   "execution_count": 17,
   "id": "98bf59c3",
   "metadata": {},
   "outputs": [],
   "source": [
    "jarra_3.verter(jarra_5)"
   ]
  },
  {
   "cell_type": "code",
   "execution_count": 18,
   "id": "dcf14ac0",
   "metadata": {},
   "outputs": [
    {
     "name": "stdout",
     "output_type": "stream",
     "text": [
      "1\n",
      "5\n"
     ]
    }
   ],
   "source": [
    "print(jarra_3.cantidad)\n",
    "print(jarra_5.cantidad)"
   ]
  },
  {
   "cell_type": "code",
   "execution_count": 19,
   "id": "e923ca91",
   "metadata": {},
   "outputs": [],
   "source": [
    "jarra_5.vaciar()"
   ]
  },
  {
   "cell_type": "code",
   "execution_count": 20,
   "id": "52521da2",
   "metadata": {},
   "outputs": [],
   "source": [
    "jarra_3.verter(jarra_5)"
   ]
  },
  {
   "cell_type": "code",
   "execution_count": 21,
   "id": "516c837e",
   "metadata": {},
   "outputs": [
    {
     "name": "stdout",
     "output_type": "stream",
     "text": [
      "0\n",
      "1\n"
     ]
    }
   ],
   "source": [
    "print(jarra_3.cantidad)\n",
    "print(jarra_5.cantidad)"
   ]
  },
  {
   "cell_type": "code",
   "execution_count": 22,
   "id": "50eb861b",
   "metadata": {},
   "outputs": [],
   "source": [
    "jarra_3.llenar()"
   ]
  },
  {
   "cell_type": "code",
   "execution_count": 23,
   "id": "24cc386b",
   "metadata": {},
   "outputs": [],
   "source": [
    "jarra_3.verter(jarra_5)"
   ]
  },
  {
   "cell_type": "code",
   "execution_count": null,
   "id": "01864ff4",
   "metadata": {},
   "outputs": [],
   "source": []
  },
  {
   "cell_type": "code",
   "execution_count": 24,
   "id": "d8eb448c",
   "metadata": {},
   "outputs": [
    {
     "name": "stdout",
     "output_type": "stream",
     "text": [
      "Jarra de 5 litros: 4 litros\n",
      "Jarra de 3 litros: 0 litros\n"
     ]
    }
   ],
   "source": [
    "# Mostrar el estado final de las jarras\n",
    "print(\"Jarra de 5 litros:\", jarra_5.cantidad, \"litros\")\n",
    "print(\"Jarra de 3 litros:\", jarra_3.cantidad, \"litros\")"
   ]
  },
  {
   "cell_type": "code",
   "execution_count": null,
   "id": "fa9e0c83",
   "metadata": {},
   "outputs": [],
   "source": []
  }
 ],
 "metadata": {
  "kernelspec": {
   "display_name": "Python 3 (ipykernel)",
   "language": "python",
   "name": "python3"
  },
  "language_info": {
   "codemirror_mode": {
    "name": "ipython",
    "version": 3
   },
   "file_extension": ".py",
   "mimetype": "text/x-python",
   "name": "python",
   "nbconvert_exporter": "python",
   "pygments_lexer": "ipython3",
   "version": "3.9.16"
  }
 },
 "nbformat": 4,
 "nbformat_minor": 5
}
