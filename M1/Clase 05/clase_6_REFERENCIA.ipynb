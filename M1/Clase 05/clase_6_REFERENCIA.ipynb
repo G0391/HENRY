{
 "cells": [
  {
   "cell_type": "markdown",
   "id": "fd6d65f6",
   "metadata": {},
   "source": [
    "### 1. Listas enlazadas\n",
    "\n",
    "Una lista enlazada es una estructura de datos en la que cada elemento, llamado **nodo**, contiene dos partes: una que almacena el valor del elemento y otra que almacena un **puntero** al siguiente nodo en la lista. \n",
    "\n",
    "El último nodo de la lista apunta a NULL. Esta estructura de datos se utiliza para implementar pilas, colas y en general **cualquier estructura que requiera acceso secuencial a sus elementos**. \n",
    "\n",
    "La principal ventaja de las listas enlazadas es su flexibilidad para insertar o eliminar elementos en cualquier posición de la lista. Sin embargo, su principal desventaja es que su acceso a los elementos no es tan eficiente como en un array estático."
   ]
  },
  {
   "cell_type": "markdown",
   "id": "5c0016f6",
   "metadata": {},
   "source": [
    "1) si tenemos que modelar el plan de vuelo de un avión una buena posibilidad sería una lista enlazada de aeropuertos.\n",
    "\n",
    "2) en el browser para poder ir hacia atrás y adelante en las páginas web del historial también podríamos usar una lista doblemente enlazada"
   ]
  },
  {
   "cell_type": "markdown",
   "id": "9ec4d577",
   "metadata": {},
   "source": [
    "1. Lista enlazada:\n",
    "La clase `LinkedList` representa una lista enlazada, que se compone de nodos que contienen un valor y una referencia al siguiente nodo. La lista en sí mantiene una referencia al primer nodo. \n",
    "\n",
    "Métodos:\n",
    "\n",
    "- `__init__()`: crea una lista enlazada vacía.\n",
    "- `append(valor)`: agrega un valor al final de la lista.\n",
    "- `insert(posicion, valor)`: agrega un valor en la posición dada de la lista.\n",
    "- `remove(valor)`: elimina la primera ocurrencia del valor dado en la lista.\n",
    "- `buscar(valor)`: busca el valor dado en la lista y devuelve su posición si se encuentra, o None si no se encuentra.\n",
    "- `tamano()`: devuelve el número de elementos en la lista.\n",
    "- `__str__()`: devuelve una cadena que representa la lista."
   ]
  },
  {
   "cell_type": "code",
   "execution_count": 1,
   "id": "283cf250",
   "metadata": {},
   "outputs": [],
   "source": [
    "class Node:\n",
    "    def __init__(self, val):\n",
    "        self.data = val\n",
    "        self.next = None\n",
    "\n",
    "    def getData(self):\n",
    "        return self.data\n",
    "\n",
    "    def getNext(self):\n",
    "        return self.next\n",
    "\n",
    "    def setData(self, val):\n",
    "        self.data = val\n",
    "\n",
    "    def setNext(self, val):\n",
    "        self.next = val"
   ]
  },
  {
   "cell_type": "code",
   "execution_count": 2,
   "id": "4ed0a1e4",
   "metadata": {},
   "outputs": [],
   "source": [
    "class LinkedList:\n",
    "    def __init__(self):\n",
    "        self.head = None\n",
    "\n",
    "    def isEmpty(self):\n",
    "        \"\"\"Check if the list is empty\"\"\"\n",
    "        if (self.head == None):\n",
    "            return True\n",
    "        else:\n",
    "            return False\n",
    "\n",
    "    def add(self, item):\n",
    "        \"\"\"Add the item to the list\"\"\"\n",
    "        new_node = Node(item)\n",
    "        new_node.setNext(self.head)\n",
    "        self.head = new_node\n",
    "\n",
    "    def size(self):\n",
    "        \"\"\"Return the length/size of the list\"\"\"\n",
    "        count = 0\n",
    "        current = self.head\n",
    "        while (not(current == None)):\n",
    "            count += 1\n",
    "            current = current.getNext()\n",
    "        return count\n",
    "\n",
    "    def search(self, item):\n",
    "        \"\"\"Search for item in list. If found, return True. If not found, return False\"\"\"\n",
    "        current = self.head\n",
    "        found = False\n",
    "        while ((current != None) and (not found)):\n",
    "            if current.getData() is item:\n",
    "                found = True\n",
    "            else:\n",
    "                current = current.getNext()\n",
    "        return found\n",
    "\n",
    "    def remove(self, item):\n",
    "        \"\"\"Remove item from list. If item is not found in list, raise ValueError\"\"\"\n",
    "        current = self.head\n",
    "        previous = None\n",
    "        found = False\n",
    "        while((current != None) and (not found)):\n",
    "            if(current.getData() == item):\n",
    "                found = True\n",
    "            else:\n",
    "                previous = current\n",
    "                current = current.getNext()\n",
    "        if found:\n",
    "            if(previous == None):\n",
    "                self.head = current.getNext()\n",
    "            else:\n",
    "                previous.setNext(current.getNext())\n",
    "        else:\n",
    "            raise ValueError\n",
    "            print('Value not found.')\n",
    "\n",
    "    def insert(self, position, item):\n",
    "        \"\"\"\n",
    "        Insert item at position specified. If position specified is\n",
    "        out of bounds, raise IndexError\n",
    "        \"\"\"\n",
    "        if position > self.size() - 1:\n",
    "            raise IndexError\n",
    "            print('Index out of bounds.')\n",
    "        current = self.head\n",
    "        previous = None\n",
    "        pos = 0\n",
    "        if position == 0:\n",
    "            self.add(item)\n",
    "        else:\n",
    "            new_node = Node(item)\n",
    "            while pos < position:\n",
    "                pos += 1\n",
    "                previous = current\n",
    "                current = current.getNext()\n",
    "            previous.setNext(new_node)\n",
    "            new_node.setNext(current)\n",
    "\n",
    "    def index(self, item):\n",
    "        \"\"\"\n",
    "        Return the index where item is found.\n",
    "        If item is not found, return None.\n",
    "        \"\"\"\n",
    "        current = self.head\n",
    "        pos = 0\n",
    "        found = False\n",
    "        while ((current != None) and (not found)):\n",
    "            if (current.getData() == item):\n",
    "                found = True\n",
    "            else:\n",
    "                current = current.getNext()\n",
    "                pos += 1\n",
    "        if found:\n",
    "            pass\n",
    "        else:\n",
    "            pos = None\n",
    "        return pos\n",
    "\n",
    "    def pop(self, position = None):\n",
    "        \"\"\"\n",
    "        If no argument is provided, return and remove the item at the head. \n",
    "        If position is provided, return and remove the item at that position.\n",
    "        If index is out of bounds, raise IndexError\n",
    "        \"\"\"\n",
    "        current = self.head\n",
    "        if (position == None):\n",
    "            ret = current.getData()\n",
    "            self.head = current.getNext()\n",
    "        else:\n",
    "            if position > self.size():\n",
    "                print('Index out of bounds')\n",
    "                raise IndexError\n",
    "            pos = 0\n",
    "            previous = None\n",
    "            while pos < position:\n",
    "                previous = current\n",
    "                current = current.getNext()\n",
    "                pos += 1\n",
    "                ret = current.getData()\n",
    "            previous.setNext(current.getNext())\n",
    "        return ret\n",
    "\n",
    "    def append(self, item):\n",
    "        \"\"\"Append item to the end of the list\"\"\"\n",
    "        current = self.head\n",
    "        previous = None\n",
    "        pos = 0\n",
    "        length = self.size()\n",
    "        while pos < length:\n",
    "            previous = current\n",
    "            current = current.getNext()\n",
    "            pos += 1\n",
    "        new_node = Node(item)\n",
    "        if (previous == None):\n",
    "            new_node.setNext(current)\n",
    "            self.head = new_node\n",
    "        else:\n",
    "            previous.setNext(new_node)\n",
    "\n",
    "    def printList(self):\n",
    "        \"\"\"Print the list\"\"\"\n",
    "        current = self.head\n",
    "        while (not(current == None)):\n",
    "            print(current.getData())\n",
    "            current = current.getNext()"
   ]
  },
  {
   "cell_type": "code",
   "execution_count": 3,
   "id": "f96722f8",
   "metadata": {},
   "outputs": [],
   "source": [
    "lis = LinkedList()"
   ]
  },
  {
   "cell_type": "code",
   "execution_count": 4,
   "id": "85008288",
   "metadata": {},
   "outputs": [
    {
     "data": {
      "text/plain": [
       "True"
      ]
     },
     "execution_count": 4,
     "metadata": {},
     "output_type": "execute_result"
    }
   ],
   "source": [
    "lis.isEmpty()"
   ]
  },
  {
   "cell_type": "code",
   "execution_count": 5,
   "id": "f23f6b60",
   "metadata": {},
   "outputs": [],
   "source": [
    "lis.add('rojo')"
   ]
  },
  {
   "cell_type": "code",
   "execution_count": 6,
   "id": "b9bc2621",
   "metadata": {},
   "outputs": [
    {
     "data": {
      "text/plain": [
       "1"
      ]
     },
     "execution_count": 6,
     "metadata": {},
     "output_type": "execute_result"
    }
   ],
   "source": [
    "lis.size()"
   ]
  },
  {
   "cell_type": "code",
   "execution_count": 7,
   "id": "42c2367d",
   "metadata": {},
   "outputs": [],
   "source": [
    "lis.add('azul')\n",
    "lis.add('blanco')\n",
    "lis.add('verde')"
   ]
  },
  {
   "cell_type": "code",
   "execution_count": 8,
   "id": "896b1713",
   "metadata": {},
   "outputs": [
    {
     "data": {
      "text/plain": [
       "True"
      ]
     },
     "execution_count": 8,
     "metadata": {},
     "output_type": "execute_result"
    }
   ],
   "source": [
    "lis.search('rojo')"
   ]
  },
  {
   "cell_type": "code",
   "execution_count": 9,
   "id": "ab7c2f4b",
   "metadata": {},
   "outputs": [
    {
     "data": {
      "text/plain": [
       "False"
      ]
     },
     "execution_count": 9,
     "metadata": {},
     "output_type": "execute_result"
    }
   ],
   "source": [
    "lis.search('amarillo')"
   ]
  },
  {
   "cell_type": "code",
   "execution_count": 10,
   "id": "4a1ea0ba",
   "metadata": {},
   "outputs": [],
   "source": [
    "lis.remove('rojo')"
   ]
  },
  {
   "cell_type": "code",
   "execution_count": 11,
   "id": "f0c89f83",
   "metadata": {},
   "outputs": [
    {
     "data": {
      "text/plain": [
       "False"
      ]
     },
     "execution_count": 11,
     "metadata": {},
     "output_type": "execute_result"
    }
   ],
   "source": [
    "lis.search('rojo')"
   ]
  },
  {
   "cell_type": "code",
   "execution_count": 12,
   "id": "4d5b77b6",
   "metadata": {},
   "outputs": [
    {
     "name": "stdout",
     "output_type": "stream",
     "text": [
      "verde\n",
      "blanco\n",
      "azul\n"
     ]
    }
   ],
   "source": [
    "lis.printList()"
   ]
  },
  {
   "cell_type": "code",
   "execution_count": 13,
   "id": "0a603c58",
   "metadata": {},
   "outputs": [],
   "source": [
    "lis.insert(2,'rojo')"
   ]
  },
  {
   "cell_type": "code",
   "execution_count": 14,
   "id": "1c286641",
   "metadata": {},
   "outputs": [
    {
     "name": "stdout",
     "output_type": "stream",
     "text": [
      "verde\n",
      "blanco\n",
      "rojo\n",
      "azul\n"
     ]
    }
   ],
   "source": [
    "lis.printList()"
   ]
  },
  {
   "cell_type": "code",
   "execution_count": 15,
   "id": "6e047771",
   "metadata": {},
   "outputs": [
    {
     "data": {
      "text/plain": [
       "1"
      ]
     },
     "execution_count": 15,
     "metadata": {},
     "output_type": "execute_result"
    }
   ],
   "source": [
    "lis.index('blanco')"
   ]
  },
  {
   "cell_type": "code",
   "execution_count": 16,
   "id": "a6ec1476",
   "metadata": {},
   "outputs": [
    {
     "data": {
      "text/plain": [
       "'verde'"
      ]
     },
     "execution_count": 16,
     "metadata": {},
     "output_type": "execute_result"
    }
   ],
   "source": [
    "lis.pop()"
   ]
  },
  {
   "cell_type": "code",
   "execution_count": 17,
   "id": "77cc2acb",
   "metadata": {},
   "outputs": [
    {
     "name": "stdout",
     "output_type": "stream",
     "text": [
      "blanco\n",
      "rojo\n",
      "azul\n"
     ]
    }
   ],
   "source": [
    "lis.printList()"
   ]
  },
  {
   "cell_type": "code",
   "execution_count": 18,
   "id": "b3fa4a92",
   "metadata": {},
   "outputs": [],
   "source": [
    "lis.add('negro')"
   ]
  },
  {
   "cell_type": "code",
   "execution_count": 19,
   "id": "a64d5bdf",
   "metadata": {},
   "outputs": [
    {
     "name": "stdout",
     "output_type": "stream",
     "text": [
      "negro\n",
      "blanco\n",
      "rojo\n",
      "azul\n"
     ]
    }
   ],
   "source": [
    "lis.printList()"
   ]
  },
  {
   "cell_type": "markdown",
   "id": "3e6bb163",
   "metadata": {},
   "source": [
    "### 2. Listas doblemente enlazadas\n",
    "Una lista doblemente enlazada es una variante de la lista enlazada en la que cada nodo contiene no solo un puntero al siguiente nodo, sino también un puntero al nodo anterior. Esto permite que se recorra la lista en ambas direcciones. La principal ventaja de las listas doblemente enlazadas es que se pueden recorrer en ambas direcciones de manera eficiente, pero su principal desventaja es que ocupan más espacio en memoria que las listas enlazadas simples."
   ]
  },
  {
   "cell_type": "markdown",
   "id": "65694d43",
   "metadata": {},
   "source": [
    "2. Lista doblemente enlazada:\n",
    "La clase `DoublyLinkedList` representa una lista doblemente enlazada, que se compone de nodos que contienen un valor y referencias al nodo anterior y al siguiente nodo. La lista en sí mantiene referencias al primer nodo y al último nodo.\n",
    "\n",
    "Métodos:\n",
    "\n",
    "- `__init__()`: crea una lista doblemente enlazada vacía.\n",
    "- `append(valor)`: agrega un valor al final de la lista.\n",
    "- `insert(posicion, valor)`: agrega un valor en la posición dada de la lista.\n",
    "- `remove(valor)`: elimina la primera ocurrencia del valor dado en la lista.\n",
    "- `buscar(valor)`: busca el valor dado en la lista y devuelve su posición si se encuentra, o None si no se encuentra.\n",
    "- `tamano()`: devuelve el número de elementos en la lista.\n",
    "- `__str__()`: devuelve una cadena que representa la lista."
   ]
  },
  {
   "cell_type": "code",
   "execution_count": 20,
   "id": "486248e5",
   "metadata": {},
   "outputs": [],
   "source": [
    "class NodoDoble:\n",
    "    def __init__(self, valor=None, siguiente=None, anterior=None):\n",
    "        self.valor = valor\n",
    "        self.siguiente = siguiente\n",
    "        self.anterior = anterior"
   ]
  },
  {
   "cell_type": "code",
   "execution_count": 21,
   "id": "ddf30b3a",
   "metadata": {},
   "outputs": [],
   "source": [
    "\n",
    "class ListaDobleEnlazada:\n",
    "    def __init__(self):\n",
    "        self.cabeza = NodoDoble()\n",
    "\n",
    "    def insertar(self, valor):\n",
    "        nodo = NodoDoble(valor)\n",
    "        nodo.siguiente = self.cabeza.siguiente\n",
    "        nodo.anterior = self.cabeza\n",
    "        if self.cabeza.siguiente != None:\n",
    "            self.cabeza.siguiente.anterior = nodo\n",
    "        self.cabeza.siguiente = nodo\n",
    "\n",
    "    def imprimir(self):\n",
    "        nodo_actual = self.cabeza.siguiente\n",
    "        while nodo_actual != None:\n",
    "            print(nodo_actual.valor)\n",
    "            nodo_actual = nodo_actual.siguiente"
   ]
  },
  {
   "cell_type": "code",
   "execution_count": 22,
   "id": "d596aab9",
   "metadata": {},
   "outputs": [],
   "source": [
    "doble = ListaDobleEnlazada()"
   ]
  },
  {
   "cell_type": "code",
   "execution_count": 23,
   "id": "69ae9b2e",
   "metadata": {},
   "outputs": [],
   "source": [
    "doble.cabeza.valor"
   ]
  },
  {
   "cell_type": "code",
   "execution_count": null,
   "id": "415b9904",
   "metadata": {},
   "outputs": [],
   "source": []
  },
  {
   "cell_type": "markdown",
   "id": "c7c1f2e0",
   "metadata": {},
   "source": [
    "### 3. Mapas hash\n",
    "Un mapa hash es una estructura de datos que asocia claves con valores. Se utiliza para almacenar información en forma de pares clave-valor, y permite acceder a los valores asociados a una clave de manera muy eficiente. En un mapa hash, las claves se convierten en índices utilizando una función hash, y los valores se almacenan en una tabla de hash. La función hash debe ser capaz de generar un índice único para cada clave, y la tabla de hash debe ser lo suficientemente grande para evitar colisiones (cuando dos claves distintas generan el mismo índice). \n",
    "\n",
    "La principal ventaja de los mapas hash es su eficiencia en el acceso a los valores asociados a una clave, ya que la búsqueda en la tabla de hash es de tiempo constante en promedio. Sin embargo, su principal desventaja es que el orden de los elementos no está definido y que la tabla de hash puede requerir una cantidad significativa de memoria."
   ]
  },
  {
   "cell_type": "markdown",
   "id": "ad326c40",
   "metadata": {},
   "source": [
    "La clase `HashMap` representa un mapa hash, que se implementa como una tabla de hash que almacena pares clave-valor. La función hash utiliza la función `hash()` incorporada de Python para generar un índice único para cada clave. La tabla de hash se implementa como una lista de listas, donde cada sublista contiene los pares clave-valor que tienen el mismo índice.\n",
    "\n",
    "Métodos:\n",
    "\n",
    "- `__init__()`: crea un mapa hash vacío con una tabla de hash de tamaño 10.\n",
    "- `hash(clave)`: devuelve el índice correspondiente a la clave dada utilizando la función hash incorporada de Python.\n",
    "- `agregar(clave, valor)`: agrega el par clave-valor dado al mapa hash.\n",
    "- `obtener(clave)`: devuelve el valor asociado con la clave dada en el mapa hash, o genera una excepción `KeyError` si la clave no está en el mapa.\n",
    "\n",
    "Espero que esto ayude a entender los códigos. Si tiene alguna otra pregunta, no dude en preguntar."
   ]
  },
  {
   "cell_type": "code",
   "execution_count": 24,
   "id": "55523b63",
   "metadata": {},
   "outputs": [],
   "source": [
    "class HashMap:\n",
    "    \n",
    "    \"\"\"\n",
    "    La clase `HashMap` representa un mapa hash, \n",
    "    que se implementa como una tabla de hash que almacena pares clave-valor. \n",
    "    La función hash utiliza la función `hash()` incorporada de Python para generar un índice único para cada clave. \n",
    "    La tabla de hash se implementa como una lista de listas, \n",
    "    donde cada sublista contiene los pares clave-valor que tienen el mismo índice.\n",
    "\n",
    "    Métodos:\n",
    "\n",
    "    - `__init__()`: crea un mapa hash vacío con una tabla de hash de tamaño 10.\n",
    "    - `hash_(clave)`: devuelve el índice correspondiente a la clave dada \n",
    "    utilizando la función hash incorporada de Python.\n",
    "    - `agregar(clave, valor)`: agrega el par clave-valor dado al mapa hash.\n",
    "    - `obtener(clave)`: devuelve el valor asociado con la clave dada en el mapa hash, \n",
    "    o genera una excepción `KeyError` si la clave no está en el mapa.\n",
    "    \"\"\"\n",
    "    \n",
    "    def __init__(self, capacidad):\n",
    "        self.tamano = capacidad\n",
    "        self.tabla = [None] * self.tamano\n",
    "\n",
    "    def hash_(self, clave):\n",
    "        return hash(clave) % self.tamano\n",
    "\n",
    "    def agregar(self, clave, valor):\n",
    "        indice = self.hash_(clave)\n",
    "        if self.tabla[indice] is None:\n",
    "            self.tabla[indice] = []\n",
    "            for par in self.tabla[indice]:\n",
    "                if par[0] == clave:\n",
    "                    par[1] = valor\n",
    "                    break\n",
    "        else:\n",
    "            self.tabla[indice].append((clave, valor))\n",
    "\n",
    "    def obtener(self, clave):\n",
    "        indice = self.hash_(clave)\n",
    "        if self.tabla[indice] is not None:\n",
    "            for par in self.tabla[indice]:\n",
    "                if par[0] == clave:\n",
    "                    return par[1]\n",
    "        raise KeyError(clave)"
   ]
  },
  {
   "cell_type": "code",
   "execution_count": 25,
   "id": "3213ef54",
   "metadata": {},
   "outputs": [],
   "source": [
    "hash_map = HashMap(10)"
   ]
  },
  {
   "cell_type": "code",
   "execution_count": 26,
   "id": "3d1468a2",
   "metadata": {},
   "outputs": [],
   "source": [
    "hash_map.agregar('Mariano', 'Lastiri')"
   ]
  },
  {
   "cell_type": "code",
   "execution_count": 27,
   "id": "8cfd283e",
   "metadata": {},
   "outputs": [
    {
     "ename": "KeyError",
     "evalue": "'Mariano'",
     "output_type": "error",
     "traceback": [
      "\u001b[1;31m---------------------------------------------------------------------------\u001b[0m",
      "\u001b[1;31mKeyError\u001b[0m                                  Traceback (most recent call last)",
      "Cell \u001b[1;32mIn[27], line 1\u001b[0m\n\u001b[1;32m----> 1\u001b[0m \u001b[43mhash_map\u001b[49m\u001b[38;5;241;43m.\u001b[39;49m\u001b[43mobtener\u001b[49m\u001b[43m(\u001b[49m\u001b[38;5;124;43m'\u001b[39;49m\u001b[38;5;124;43mMariano\u001b[39;49m\u001b[38;5;124;43m'\u001b[39;49m\u001b[43m)\u001b[49m\n",
      "Cell \u001b[1;32mIn[24], line 44\u001b[0m, in \u001b[0;36mHashMap.obtener\u001b[1;34m(self, clave)\u001b[0m\n\u001b[0;32m     42\u001b[0m         \u001b[38;5;28;01mif\u001b[39;00m par[\u001b[38;5;241m0\u001b[39m] \u001b[38;5;241m==\u001b[39m clave:\n\u001b[0;32m     43\u001b[0m             \u001b[38;5;28;01mreturn\u001b[39;00m par[\u001b[38;5;241m1\u001b[39m]\n\u001b[1;32m---> 44\u001b[0m \u001b[38;5;28;01mraise\u001b[39;00m \u001b[38;5;167;01mKeyError\u001b[39;00m(clave)\n",
      "\u001b[1;31mKeyError\u001b[0m: 'Mariano'"
     ]
    }
   ],
   "source": [
    "hash_map.obtener('Mariano')"
   ]
  },
  {
   "cell_type": "code",
   "execution_count": 28,
   "id": "7b9e470d",
   "metadata": {},
   "outputs": [
    {
     "data": {
      "text/plain": [
       "[None, None, None, None, None, [], None, None, None, None]"
      ]
     },
     "execution_count": 28,
     "metadata": {},
     "output_type": "execute_result"
    }
   ],
   "source": [
    "hash_map.tabla"
   ]
  },
  {
   "cell_type": "code",
   "execution_count": 29,
   "id": "9dce6837",
   "metadata": {},
   "outputs": [
    {
     "data": {
      "text/plain": [
       "5"
      ]
     },
     "execution_count": 29,
     "metadata": {},
     "output_type": "execute_result"
    }
   ],
   "source": [
    "hash_map.hash_('Mariano')"
   ]
  },
  {
   "cell_type": "code",
   "execution_count": 30,
   "id": "af79b90f",
   "metadata": {},
   "outputs": [
    {
     "data": {
      "text/plain": [
       "5"
      ]
     },
     "execution_count": 30,
     "metadata": {},
     "output_type": "execute_result"
    }
   ],
   "source": [
    "hash('Mariano') % 10"
   ]
  },
  {
   "cell_type": "markdown",
   "id": "91531d01",
   "metadata": {},
   "source": [
    "1. Lista enlazada:\n",
    "Las listas enlazadas se utilizan en situaciones en las que el tamaño de la colección de datos es desconocido o puede cambiar dinámicamente. Algunas aplicaciones comunes incluyen:\n",
    "\n",
    "- Implementación de pilas y colas.\n",
    "- Implementación de sistemas de memoria dinámica en lenguajes de programación.\n",
    "- Implementación de editores de texto.\n",
    "\n",
    "2. Lista doblemente enlazada:\n",
    "Las listas doblemente enlazadas son similares a las listas enlazadas, pero tienen la ventaja adicional de permitir el recorrido en ambas direcciones. Algunas aplicaciones comunes incluyen:\n",
    "\n",
    "- Implementación de cachés de disco y memoria.\n",
    "- Implementación de sistemas de historial en navegadores web.\n",
    "- Implementación de editores de texto más avanzados que permiten la navegación hacia adelante y hacia atrás en un texto.\n",
    "\n",
    "3. Mapa hash:\n",
    "Los mapas hash se utilizan para almacenar una gran cantidad de datos en una tabla de hash, lo que permite un acceso muy rápido a los valores utilizando una clave. Algunas aplicaciones comunes incluyen:\n",
    "\n",
    "- Implementación de bases de datos y sistemas de indexación.\n",
    "- Implementación de sistemas de autenticación y autorización.\n",
    "- Implementación de compiladores y analizadores léxicos.\n",
    "\n",
    "Es importante destacar que estas son solo algunas de las muchas aplicaciones de las estructuras de datos que hemos discutido. Las estructuras de datos se utilizan en una amplia variedad de situaciones en la informática, desde la implementación de sistemas operativos hasta la creación de videojuegos."
   ]
  },
  {
   "cell_type": "code",
   "execution_count": 43,
   "id": "75755460",
   "metadata": {},
   "outputs": [],
   "source": [
    "# La función recibe un dato de algún tipo como parámetro\n",
    "# convierte ese dato en un string\n",
    "# enumera cada caracter de ese string comenzando en 1\n",
    "# multiplica el índice de es caracter por el código unicode ord() de ese caracter\n",
    "# suma todos los valores que resultan de esas multiplicaciones\n",
    "\n",
    "def hash_function(key):\n",
    "    return sum(index * ord(character) for index, character in enumerate(repr(key), start=1))"
   ]
  },
  {
   "cell_type": "code",
   "execution_count": 46,
   "id": "29a22e9f",
   "metadata": {},
   "outputs": [],
   "source": [
    "def hash_function_2(key):\n",
    "    return sum(index * ord(character) for index, character in enumerate(str(key), start=1))"
   ]
  },
  {
   "cell_type": "code",
   "execution_count": 32,
   "id": "648a7c3c",
   "metadata": {},
   "outputs": [
    {
     "name": "stdout",
     "output_type": "stream",
     "text": [
      "1 1 49\n",
      "2 2 50\n",
      "3 6 54\n",
      "4 0 48\n"
     ]
    }
   ],
   "source": [
    "for index, character in enumerate(repr(1260), start=1):\n",
    "    print(index, character, ord(character))"
   ]
  },
  {
   "cell_type": "code",
   "execution_count": 44,
   "id": "625e228b",
   "metadata": {},
   "outputs": [
    {
     "name": "stdout",
     "output_type": "stream",
     "text": [
      "1807\n",
      "1799\n"
     ]
    }
   ],
   "source": [
    "print(hash_function('pato'))\n",
    "print(hash_function('tapo'))"
   ]
  },
  {
   "cell_type": "code",
   "execution_count": 47,
   "id": "828d63ab",
   "metadata": {},
   "outputs": [
    {
     "name": "stdout",
     "output_type": "stream",
     "text": [
      "1098\n",
      "1090\n"
     ]
    }
   ],
   "source": [
    "print(hash_function_2('pato'))\n",
    "print(hash_function_2('tapo'))"
   ]
  },
  {
   "cell_type": "code",
   "execution_count": 53,
   "id": "897797f0",
   "metadata": {},
   "outputs": [
    {
     "data": {
      "text/plain": [
       "\"'pato'\""
      ]
     },
     "execution_count": 53,
     "metadata": {},
     "output_type": "execute_result"
    }
   ],
   "source": [
    "repr('pato')"
   ]
  },
  {
   "cell_type": "code",
   "execution_count": 35,
   "id": "487aa8ab",
   "metadata": {},
   "outputs": [
    {
     "data": {
      "text/plain": [
       "77"
      ]
     },
     "execution_count": 35,
     "metadata": {},
     "output_type": "execute_result"
    }
   ],
   "source": [
    "ord('M')"
   ]
  },
  {
   "cell_type": "code",
   "execution_count": 36,
   "id": "8e7f1708",
   "metadata": {},
   "outputs": [
    {
     "data": {
      "text/plain": [
       "-2971468993189287239"
      ]
     },
     "execution_count": 36,
     "metadata": {},
     "output_type": "execute_result"
    }
   ],
   "source": [
    "hash('Hola, Mundo')"
   ]
  },
  {
   "cell_type": "code",
   "execution_count": 59,
   "id": "b643a86c",
   "metadata": {},
   "outputs": [
    {
     "data": {
      "text/plain": [
       "True"
      ]
     },
     "execution_count": 59,
     "metadata": {},
     "output_type": "execute_result"
    }
   ],
   "source": [
    "repr(10) == str(10)"
   ]
  },
  {
   "cell_type": "code",
   "execution_count": 60,
   "id": "5c52dd5c",
   "metadata": {},
   "outputs": [
    {
     "data": {
      "text/plain": [
       "False"
      ]
     },
     "execution_count": 60,
     "metadata": {},
     "output_type": "execute_result"
    }
   ],
   "source": [
    "repr('10') == str('10')"
   ]
  },
  {
   "cell_type": "code",
   "execution_count": null,
   "id": "0b21dfee",
   "metadata": {},
   "outputs": [],
   "source": []
  }
 ],
 "metadata": {
  "kernelspec": {
   "display_name": "Python 3 (ipykernel)",
   "language": "python",
   "name": "python3"
  },
  "language_info": {
   "codemirror_mode": {
    "name": "ipython",
    "version": 3
   },
   "file_extension": ".py",
   "mimetype": "text/x-python",
   "name": "python",
   "nbconvert_exporter": "python",
   "pygments_lexer": "ipython3",
   "version": "3.9.16"
  }
 },
 "nbformat": 4,
 "nbformat_minor": 5
}
