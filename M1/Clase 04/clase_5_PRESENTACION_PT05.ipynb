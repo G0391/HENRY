{
 "cells": [
  {
   "cell_type": "markdown",
   "id": "bad212c9",
   "metadata": {},
   "source": [
    "# Estructuras de datos: pilas y colas"
   ]
  },
  {
   "cell_type": "markdown",
   "id": "b38a7998",
   "metadata": {},
   "source": [
    "# Pilas"
   ]
  },
  {
   "cell_type": "code",
   "execution_count": 1,
   "id": "4312e8bd",
   "metadata": {},
   "outputs": [],
   "source": [
    "import numpy as np\n",
    "import random\n",
    "import time"
   ]
  },
  {
   "cell_type": "code",
   "execution_count": 10,
   "id": "de2520fa",
   "metadata": {},
   "outputs": [],
   "source": [
    "class Pila:\n",
    "    def __init__(self):\n",
    "        self.items = []\n",
    "        return None\n",
    "    \n",
    "    def agregar(self, item):\n",
    "        self.items.append(item)\n",
    "        return None\n",
    "    \n",
    "    def eliminar(self):\n",
    "        return self.items.pop()\n",
    "    \n",
    "    def esta_vacia(self):\n",
    "        return self.items == []\n",
    "    \n",
    "    def size(self):\n",
    "        return len(self.items)"
   ]
  },
  {
   "cell_type": "code",
   "execution_count": 3,
   "id": "aefe6ab5",
   "metadata": {},
   "outputs": [],
   "source": [
    "lista = [1, 2, 3, 4]"
   ]
  },
  {
   "cell_type": "code",
   "execution_count": 8,
   "id": "27a3680e",
   "metadata": {},
   "outputs": [
    {
     "data": {
      "text/plain": [
       "3"
      ]
     },
     "execution_count": 8,
     "metadata": {},
     "output_type": "execute_result"
    }
   ],
   "source": [
    "lista.pop()"
   ]
  },
  {
   "cell_type": "code",
   "execution_count": 11,
   "id": "6c9625fe",
   "metadata": {},
   "outputs": [],
   "source": [
    "pila = Pila()"
   ]
  },
  {
   "cell_type": "code",
   "execution_count": 12,
   "id": "0f4b1170",
   "metadata": {},
   "outputs": [
    {
     "data": {
      "text/plain": [
       "<__main__.Pila at 0x18dceaa8940>"
      ]
     },
     "execution_count": 12,
     "metadata": {},
     "output_type": "execute_result"
    }
   ],
   "source": [
    "pila"
   ]
  },
  {
   "cell_type": "code",
   "execution_count": 13,
   "id": "acbe6595",
   "metadata": {},
   "outputs": [
    {
     "data": {
      "text/plain": [
       "__main__.Pila"
      ]
     },
     "execution_count": 13,
     "metadata": {},
     "output_type": "execute_result"
    }
   ],
   "source": [
    "type(pila)"
   ]
  },
  {
   "cell_type": "code",
   "execution_count": 15,
   "id": "8cc5cc04",
   "metadata": {},
   "outputs": [
    {
     "data": {
      "text/plain": [
       "[]"
      ]
     },
     "execution_count": 15,
     "metadata": {},
     "output_type": "execute_result"
    }
   ],
   "source": [
    "pila.items"
   ]
  },
  {
   "cell_type": "code",
   "execution_count": 16,
   "id": "75d5133e",
   "metadata": {},
   "outputs": [],
   "source": [
    "pila.agregar(10)"
   ]
  },
  {
   "cell_type": "code",
   "execution_count": 18,
   "id": "1100ae4a",
   "metadata": {},
   "outputs": [
    {
     "data": {
      "text/plain": [
       "[10]"
      ]
     },
     "execution_count": 18,
     "metadata": {},
     "output_type": "execute_result"
    }
   ],
   "source": [
    "pila.items"
   ]
  },
  {
   "cell_type": "code",
   "execution_count": 19,
   "id": "725988f6",
   "metadata": {},
   "outputs": [
    {
     "data": {
      "text/plain": [
       "10"
      ]
     },
     "execution_count": 19,
     "metadata": {},
     "output_type": "execute_result"
    }
   ],
   "source": [
    "pila.eliminar()"
   ]
  },
  {
   "cell_type": "code",
   "execution_count": 20,
   "id": "a63ca11c",
   "metadata": {},
   "outputs": [
    {
     "data": {
      "text/plain": [
       "[]"
      ]
     },
     "execution_count": 20,
     "metadata": {},
     "output_type": "execute_result"
    }
   ],
   "source": [
    "pila.items"
   ]
  },
  {
   "cell_type": "code",
   "execution_count": 48,
   "id": "02215891",
   "metadata": {},
   "outputs": [],
   "source": [
    "for i in range(10, 100, 12):\n",
    "    pila.agregar(i)"
   ]
  },
  {
   "cell_type": "code",
   "execution_count": 49,
   "id": "1f5ed951",
   "metadata": {},
   "outputs": [
    {
     "data": {
      "text/plain": [
       "[10, 22, 34, 46, 58, 70, 82, 94]"
      ]
     },
     "execution_count": 49,
     "metadata": {},
     "output_type": "execute_result"
    }
   ],
   "source": [
    "pila.items"
   ]
  },
  {
   "cell_type": "code",
   "execution_count": 42,
   "id": "2dba36cb",
   "metadata": {},
   "outputs": [
    {
     "name": "stdout",
     "output_type": "stream",
     "text": [
      "[10, 22, 34, 46, 58, 70, 82, 94]\n",
      "94\n",
      "[10, 22, 34, 46, 58, 70, 82]\n",
      "82\n",
      "[10, 22, 34, 46, 58, 70]\n",
      "70\n",
      "[10, 22, 34, 46, 58]\n",
      "58\n",
      "[10, 22, 34, 46]\n",
      "46\n",
      "[10, 22, 34]\n",
      "34\n",
      "[10, 22]\n",
      "22\n",
      "[10]\n",
      "10\n"
     ]
    }
   ],
   "source": [
    "for i in range(len(pila.items)):\n",
    "    print(pila.items)\n",
    "    print(pila.eliminar())"
   ]
  },
  {
   "cell_type": "code",
   "execution_count": 46,
   "id": "ddae40d5",
   "metadata": {},
   "outputs": [
    {
     "name": "stdout",
     "output_type": "stream",
     "text": [
      "[10, 22, 34, 46, 58, 70, 82, 94]\n",
      "94\n",
      "[10, 22, 34, 46, 58, 70, 82]\n",
      "82\n",
      "[10, 22, 34, 46, 58, 70]\n",
      "70\n",
      "[10, 22, 34, 46, 58]\n",
      "58\n",
      "[10, 22, 34, 46]\n",
      "46\n",
      "[10, 22, 34]\n",
      "34\n",
      "[10, 22]\n",
      "22\n",
      "[10]\n",
      "10\n"
     ]
    }
   ],
   "source": [
    "for i in pila.items[::-1]:\n",
    "    print(pila.items)\n",
    "    print(pila.eliminar())"
   ]
  },
  {
   "cell_type": "code",
   "execution_count": 51,
   "id": "18108e2f",
   "metadata": {},
   "outputs": [
    {
     "data": {
      "text/plain": [
       "[94, 82, 70, 58, 46, 34, 22, 10]"
      ]
     },
     "execution_count": 51,
     "metadata": {},
     "output_type": "execute_result"
    }
   ],
   "source": [
    "pila.items[::-1]"
   ]
  },
  {
   "cell_type": "code",
   "execution_count": 60,
   "id": "c06ae0f2",
   "metadata": {},
   "outputs": [
    {
     "data": {
      "text/plain": [
       "[10, 22, 34, 46, 58, 70, 82, 94]"
      ]
     },
     "execution_count": 60,
     "metadata": {},
     "output_type": "execute_result"
    }
   ],
   "source": [
    "pila.items"
   ]
  },
  {
   "cell_type": "code",
   "execution_count": null,
   "id": "ef7f8b4a",
   "metadata": {},
   "outputs": [],
   "source": []
  },
  {
   "cell_type": "markdown",
   "id": "7428f6ef",
   "metadata": {},
   "source": [
    "# Colas"
   ]
  },
  {
   "cell_type": "code",
   "execution_count": 73,
   "id": "ff765144",
   "metadata": {},
   "outputs": [],
   "source": [
    "class Cola:\n",
    "    def __init__(self):\n",
    "        self.items = []\n",
    "        return None\n",
    "    \n",
    "    def agregar(self, item):\n",
    "        self.items.insert(0, item)\n",
    "        return None\n",
    "    \n",
    "    def eliminar(self):\n",
    "        return self.items.pop()"
   ]
  },
  {
   "cell_type": "code",
   "execution_count": 75,
   "id": "73715a1a",
   "metadata": {},
   "outputs": [],
   "source": [
    "class Cola_2:\n",
    "    def __init__(self):\n",
    "        self.items = []\n",
    "        return None\n",
    "    \n",
    "    def agregar(self, item):\n",
    "        self.items.append(item)\n",
    "        return None\n",
    "    \n",
    "    def eliminar(self):\n",
    "        return self.items.pop(0)"
   ]
  },
  {
   "cell_type": "code",
   "execution_count": 76,
   "id": "8344e013",
   "metadata": {},
   "outputs": [
    {
     "data": {
      "text/plain": [
       "1"
      ]
     },
     "execution_count": 76,
     "metadata": {},
     "output_type": "execute_result"
    }
   ],
   "source": [
    "[1, 2, 3, 4, 5].pop(0)"
   ]
  },
  {
   "cell_type": "code",
   "execution_count": 90,
   "id": "f4c069d1",
   "metadata": {},
   "outputs": [],
   "source": [
    "cola = Cola()"
   ]
  },
  {
   "cell_type": "code",
   "execution_count": 91,
   "id": "36be082d",
   "metadata": {},
   "outputs": [
    {
     "data": {
      "text/plain": [
       "[]"
      ]
     },
     "execution_count": 91,
     "metadata": {},
     "output_type": "execute_result"
    }
   ],
   "source": [
    "cola.items"
   ]
  },
  {
   "cell_type": "code",
   "execution_count": 92,
   "id": "5cb64e41",
   "metadata": {},
   "outputs": [],
   "source": [
    "cola.agregar(10)"
   ]
  },
  {
   "cell_type": "code",
   "execution_count": 93,
   "id": "c187e35a",
   "metadata": {},
   "outputs": [
    {
     "data": {
      "text/plain": [
       "[10]"
      ]
     },
     "execution_count": 93,
     "metadata": {},
     "output_type": "execute_result"
    }
   ],
   "source": [
    "cola.items"
   ]
  },
  {
   "cell_type": "code",
   "execution_count": 94,
   "id": "5524f288",
   "metadata": {},
   "outputs": [
    {
     "data": {
      "text/plain": [
       "10"
      ]
     },
     "execution_count": 94,
     "metadata": {},
     "output_type": "execute_result"
    }
   ],
   "source": [
    "cola.eliminar()"
   ]
  },
  {
   "cell_type": "code",
   "execution_count": 95,
   "id": "d06bea7d",
   "metadata": {},
   "outputs": [
    {
     "data": {
      "text/plain": [
       "[]"
      ]
     },
     "execution_count": 95,
     "metadata": {},
     "output_type": "execute_result"
    }
   ],
   "source": [
    "cola.items"
   ]
  },
  {
   "cell_type": "code",
   "execution_count": 96,
   "id": "39092183",
   "metadata": {},
   "outputs": [],
   "source": [
    "for i in range(10, 100, 12):\n",
    "    cola.agregar(i)"
   ]
  },
  {
   "cell_type": "code",
   "execution_count": 97,
   "id": "54ee51fe",
   "metadata": {},
   "outputs": [
    {
     "data": {
      "text/plain": [
       "[94, 82, 70, 58, 46, 34, 22, 10]"
      ]
     },
     "execution_count": 97,
     "metadata": {},
     "output_type": "execute_result"
    }
   ],
   "source": [
    "cola.items"
   ]
  },
  {
   "cell_type": "code",
   "execution_count": 98,
   "id": "bf1bbf7e",
   "metadata": {},
   "outputs": [
    {
     "name": "stdout",
     "output_type": "stream",
     "text": [
      "[94, 82, 70, 58, 46, 34, 22, 10]\n",
      "10\n",
      "[94, 82, 70, 58, 46, 34, 22]\n",
      "22\n",
      "[94, 82, 70, 58, 46, 34]\n",
      "34\n",
      "[94, 82, 70, 58, 46]\n",
      "46\n",
      "[94, 82, 70, 58]\n",
      "58\n",
      "[94, 82, 70]\n",
      "70\n",
      "[94, 82]\n",
      "82\n",
      "[94]\n",
      "94\n"
     ]
    }
   ],
   "source": [
    "for i in cola.items[::-1]:\n",
    "    print(cola.items)\n",
    "    print(cola.eliminar())\n",
    "    time.sleep(1)"
   ]
  },
  {
   "cell_type": "code",
   "execution_count": null,
   "id": "0eb7d944",
   "metadata": {},
   "outputs": [],
   "source": []
  },
  {
   "cell_type": "markdown",
   "id": "74a848fe",
   "metadata": {},
   "source": [
    "# Ejemplo de aplicación de una pila"
   ]
  },
  {
   "cell_type": "code",
   "execution_count": 111,
   "id": "dafba530",
   "metadata": {},
   "outputs": [],
   "source": [
    "def invertir_cadena(cadena):\n",
    "    # Creo un objeto de tipo Pila\n",
    "    pila = Pila()\n",
    "    \n",
    "    for caracter in cadena:\n",
    "        pila.agregar(caracter)\n",
    "        print(pila.items)\n",
    "        \n",
    "    cadena_invertida = ''\n",
    "    \n",
    "    while pila.items:\n",
    "        cadena_invertida += pila.eliminar()\n",
    "        print(pila.items)\n",
    "        print(cadena_invertida)\n",
    "        \n",
    "    return cadena_invertida"
   ]
  },
  {
   "cell_type": "code",
   "execution_count": 112,
   "id": "b6e6cc99",
   "metadata": {},
   "outputs": [
    {
     "name": "stdout",
     "output_type": "stream",
     "text": [
      "['h']\n",
      "['h', 'o']\n",
      "['h', 'o', 'l']\n",
      "['h', 'o', 'l', 'a']\n",
      "['h', 'o', 'l']\n",
      "a\n",
      "['h', 'o']\n",
      "al\n",
      "['h']\n",
      "alo\n",
      "[]\n",
      "aloh\n"
     ]
    },
    {
     "data": {
      "text/plain": [
       "'aloh'"
      ]
     },
     "execution_count": 112,
     "metadata": {},
     "output_type": "execute_result"
    }
   ],
   "source": [
    "invertir_cadena('hola')"
   ]
  },
  {
   "cell_type": "code",
   "execution_count": 105,
   "id": "f0daacba",
   "metadata": {},
   "outputs": [
    {
     "name": "stdout",
     "output_type": "stream",
     "text": [
      "c\n",
      "a\n",
      "d\n",
      "e\n",
      "n\n",
      "a\n",
      " \n",
      "d\n",
      "e\n",
      " \n",
      "c\n",
      "a\n",
      "r\n",
      "a\n",
      "c\n",
      "t\n",
      "e\n",
      "r\n",
      "e\n",
      "s\n"
     ]
    }
   ],
   "source": [
    "for caracter in 'cadena de caracteres':\n",
    "    print(caracter)"
   ]
  },
  {
   "cell_type": "code",
   "execution_count": 104,
   "id": "d25049d2",
   "metadata": {},
   "outputs": [
    {
     "data": {
      "text/plain": [
       "'nóicaro atse ritrevni a yoV'"
      ]
     },
     "execution_count": 104,
     "metadata": {},
     "output_type": "execute_result"
    }
   ],
   "source": [
    "'Voy a invertir esta oración'[::-1]"
   ]
  },
  {
   "cell_type": "code",
   "execution_count": null,
   "id": "b8e985d3",
   "metadata": {},
   "outputs": [],
   "source": []
  },
  {
   "cell_type": "code",
   "execution_count": null,
   "id": "9ccce985",
   "metadata": {},
   "outputs": [],
   "source": []
  },
  {
   "cell_type": "code",
   "execution_count": null,
   "id": "b6dafa3d",
   "metadata": {},
   "outputs": [],
   "source": []
  },
  {
   "cell_type": "markdown",
   "id": "1c6cf525",
   "metadata": {},
   "source": [
    "# Ejemplo de aplicación de una cola"
   ]
  },
  {
   "cell_type": "code",
   "execution_count": 158,
   "id": "7def969c",
   "metadata": {},
   "outputs": [],
   "source": [
    "lista_1 = [1, 3, 5]"
   ]
  },
  {
   "cell_type": "code",
   "execution_count": 159,
   "id": "c9b28003",
   "metadata": {},
   "outputs": [],
   "source": [
    "lista_2 = [2, 4, 6]"
   ]
  },
  {
   "cell_type": "markdown",
   "id": "92aa03c2",
   "metadata": {},
   "source": [
    "Quiero generar una nueva lista con los elementos de lista_1 y lista_2 intercalados:\n",
    "\n",
    "\\[1, 2, 3, 4, 5, 6\\]"
   ]
  },
  {
   "cell_type": "code",
   "execution_count": 160,
   "id": "f480012e",
   "metadata": {},
   "outputs": [],
   "source": [
    "def intercalar_listas(primera_lista, segunda_lista):\n",
    "    \n",
    "    resultado = Cola()\n",
    "    \n",
    "    while primera_lista and segunda_lista:\n",
    "        resultado.agregar(segunda_lista.pop())\n",
    "        resultado.agregar(primera_lista.pop())\n",
    "        \n",
    "    return resultado.items"
   ]
  },
  {
   "cell_type": "code",
   "execution_count": 161,
   "id": "be972536",
   "metadata": {},
   "outputs": [
    {
     "data": {
      "text/plain": [
       "[1, 2, 3, 4, 5, 6]"
      ]
     },
     "execution_count": 161,
     "metadata": {},
     "output_type": "execute_result"
    }
   ],
   "source": [
    "intercalar_listas(lista_1.copy(), lista_2.copy())"
   ]
  },
  {
   "cell_type": "code",
   "execution_count": null,
   "id": "23bebd00",
   "metadata": {},
   "outputs": [],
   "source": []
  },
  {
   "cell_type": "code",
   "execution_count": null,
   "id": "629bd1f0",
   "metadata": {},
   "outputs": [],
   "source": []
  }
 ],
 "metadata": {
  "kernelspec": {
   "display_name": "Python 3 (ipykernel)",
   "language": "python",
   "name": "python3"
  },
  "language_info": {
   "codemirror_mode": {
    "name": "ipython",
    "version": 3
   },
   "file_extension": ".py",
   "mimetype": "text/x-python",
   "name": "python",
   "nbconvert_exporter": "python",
   "pygments_lexer": "ipython3",
   "version": "3.9.15"
  }
 },
 "nbformat": 4,
 "nbformat_minor": 5
}
